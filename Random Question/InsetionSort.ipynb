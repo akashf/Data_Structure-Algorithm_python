{
  "nbformat": 4,
  "nbformat_minor": 0,
  "metadata": {
    "colab": {
      "name": "InsetionSort.ipynb",
      "provenance": [],
      "collapsed_sections": [],
      "include_colab_link": true
    },
    "kernelspec": {
      "name": "python3",
      "display_name": "Python 3"
    }
  },
  "cells": [
    {
      "cell_type": "markdown",
      "metadata": {
        "id": "view-in-github",
        "colab_type": "text"
      },
      "source": [
        "<a href=\"https://colab.research.google.com/github/akashf/Data_Structure-Algorithm_python/blob/master/InsetionSort.ipynb\" target=\"_parent\"><img src=\"https://colab.research.google.com/assets/colab-badge.svg\" alt=\"Open In Colab\"/></a>"
      ]
    },
    {
      "cell_type": "code",
      "metadata": {
        "id": "J8vazodcaXcZ",
        "colab_type": "code",
        "colab": {
          "base_uri": "https://localhost:8080/",
          "height": 221
        },
        "outputId": "a5bcb062-83fa-4a49-b6f1-af65cceafb28"
      },
      "source": [
        "\n",
        "#creating an list for data elements\n",
        "list_ins = []\n",
        "n = int(input(\"Enter Numbers of element\"))\n",
        "for i in range(0,n):\n",
        "  element = int(input())\n",
        "  list_ins.append(element)\n",
        "\n",
        "#list before sorting \n",
        "print(\"list before sorting\")\n",
        "for i in range(0,n):\n",
        "  print(list_ins[i])\n",
        "\n",
        "#initialize index of j for second element becz we're thinking that first element \n",
        "#is already sorte\n",
        "\n",
        "for j in range(1,len(list_ins)):\n",
        "#creating an list for data elements\n",
        " #creating key variable to store the second index or index+1\n",
        "  key = list_ins[j]\n",
        "  i = j-1\n",
        "  #creating second loop to check that for j to start index value is sorted or not\n",
        "  #if not then it sort\n",
        "  while((i>=0)and(list_ins[i]>key)):\n",
        "    list_ins[i+1] = list_ins[i]\n",
        "    i = i-1\n",
        "\n",
        " #After internal while loop ends assigning the next index value to key    \n",
        "  list_ins[i+1]=key \n",
        "\n",
        "print(\"list After sorting\")\n",
        "for j in range(0,len(list_ins)):\n",
        "  print(list_ins[j])"
      ],
      "execution_count": 10,
      "outputs": [
        {
          "output_type": "stream",
          "text": [
            "Enter Numbers of element3\n",
            "15\n",
            "1\n",
            "12\n",
            "list before sorting\n",
            "15\n",
            "1\n",
            "12\n",
            "list After sorting\n",
            "1\n",
            "12\n",
            "15\n"
          ],
          "name": "stdout"
        }
      ]
    }
  ]
}