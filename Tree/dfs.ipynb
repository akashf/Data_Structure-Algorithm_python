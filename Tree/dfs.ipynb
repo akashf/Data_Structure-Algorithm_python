{
 "cells": [
  {
   "cell_type": "markdown",
   "metadata": {},
   "source": [
    "Here is the revised markdown code with reduced height:\n",
    "MarkDown\n",
    "##### Depth-First Search (DFS) Traversal\n",
    "##### What is DFS?\n",
    "* DFS explores as far as possible along each branch before backtracking.\n",
    "* Like exploring a maze, going as far as possible down each path before turning back.\n",
    "#### Types of DFS Traversal\n",
    "###### Pre-Order\n",
    "* Visit current node\n",
    "* Traverse left subtree\n",
    "* Traverse right subtree\n",
    "###### In-Order\n",
    "* Traverse left subtree\n",
    "* Visit current node\n",
    "* Traverse right subtree\n",
    "###### Post-Order\n",
    "* Traverse left subtree\n",
    "* Traverse right subtree\n",
    "* Visit current node\n",
    "#### Example\n",
    "1\n",
    "/\n",
    "2 3\n",
    "/ \\\n",
    "4 5 6\n",
    "* **Pre-Order**: 1, 2, 4, 5, 3, 6\n",
    "* **In-Order**: 4, 2, 5, 1, 3, 6\n",
    "* **Post-Order**: 4, 5, 2, 6, 3, 1\n",
    "I removed some of the extra line breaks and condensed the text to reduce the overall height. Let me know if this is more to your liking!"
   ]
  },
  {
   "cell_type": "code",
   "execution_count": 1,
   "metadata": {},
   "outputs": [],
   "source": [
    "class Node:\n",
    "    def __init__(self,value) -> None:\n",
    "        self.value = value\n",
    "        \n",
    "        self.right = None\n",
    "        self.left = None\n",
    "\n",
    "    def setRight(self, right):\n",
    "        self.right = Node(right)\n",
    "    \n",
    "    def setLeft(self, left):\n",
    "        self.left = Node(left)\n",
    "    \n",
    "    def getRight(self):\n",
    "        return self.right\n",
    "    \n",
    "    def getLeft(self):\n",
    "        return self.left\n",
    "    \n",
    "    def hasRightChild(self):\n",
    "        return self.right !=None\n",
    "    \n",
    "    def hasLeftChild(self):\n",
    "        return self.left != None\n",
    "\n",
    "class Tree:\n",
    "    def __init__(self,val) -> None:\n",
    "        self.root = Node(val)\n",
    "    \n",
    "    def getroot(self):\n",
    "        return self.root"
   ]
  },
  {
   "cell_type": "code",
   "execution_count": 6,
   "metadata": {},
   "outputs": [],
   "source": [
    "tree = Tree(\"apple\")\n",
    "tree.getroot().setLeft(Node(\"banana\"))\n",
    "tree.getroot().setRight(Node(\"cherry\"))\n",
    "tree.getroot().getLeft().setLeft(Node(\"dates\"))\n",
    "\n"
   ]
  },
  {
   "cell_type": "code",
   "execution_count": null,
   "metadata": {},
   "outputs": [],
   "source": []
  }
 ],
 "metadata": {
  "kernelspec": {
   "display_name": "Python 3",
   "language": "python",
   "name": "python3"
  },
  "language_info": {
   "codemirror_mode": {
    "name": "ipython",
    "version": 3
   },
   "file_extension": ".py",
   "mimetype": "text/x-python",
   "name": "python",
   "nbconvert_exporter": "python",
   "pygments_lexer": "ipython3",
   "version": "3.9.6"
  }
 },
 "nbformat": 4,
 "nbformat_minor": 2
}
